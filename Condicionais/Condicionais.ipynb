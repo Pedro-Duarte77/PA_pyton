{
  "nbformat": 4,
  "nbformat_minor": 0,
  "metadata": {
    "colab": {
      "provenance": []
    },
    "kernelspec": {
      "name": "python3",
      "display_name": "Python 3"
    },
    "language_info": {
      "name": "python"
    }
  },
  "cells": [
    {
      "cell_type": "markdown",
      "source": [
        "# Condicionais\n",
        "## Condicional simples"
      ],
      "metadata": {
        "id": "weSGdc1LaWLb"
      }
    },
    {
      "cell_type": "code",
      "source": [
        "idade = 2\n",
        "\n",
        "if idade>=18:\n",
        "  print(\"Você é maior de idade\")\n",
        "else:\n",
        "    print(\"Você é menor de idade\")"
      ],
      "metadata": {
        "colab": {
          "base_uri": "https://localhost:8080/"
        },
        "id": "jde-6zUaaYXc",
        "outputId": "5c866af3-ac2d-4496-bbe8-3075f6ced8a4"
      },
      "execution_count": null,
      "outputs": [
        {
          "output_type": "stream",
          "name": "stdout",
          "text": [
            "Você é menor de idade\n"
          ]
        }
      ]
    },
    {
      "cell_type": "markdown",
      "source": [
        "# Calcula média e percentual de faltas"
      ],
      "metadata": {
        "id": "rDGJJbB1afwK"
      }
    },
    {
      "cell_type": "code",
      "source": [
        "#entrada\n",
        "nota1 = int(input(\"Digite a primeira nota: \"))\n",
        "nota2 = int(input(\"Digite a segunda nota: \"))\n",
        "nota3 = int(input(\"Digite a terceira nota: \"))\n",
        "ano = int(input(\"Quantos dias letivos o ano teve? \"))\n",
        "faltas = int(input(\"Quantas faltas você teve? \"))\n",
        "\n",
        "#processamento\n",
        "print(\"------------------------------\")\n",
        "media = (nota1 + nota2 + nota3)/3\n",
        "print(f\"Média: {media}\")\n",
        "\n",
        "percentfaltas = (faltas/ano)*100\n",
        "\n",
        "percentpresenca = (100 - percentfaltas)\n",
        "print(f\"Porcentagem de presença: {percentpresenca}%\")\n",
        "\n",
        "if (media>=6 and percentpresenca>=75):\n",
        "  print(\"Você está aprovado, com nota: \", media, \"e percentual de presença de: \", percentpresenca,\"%\")\n",
        "else:\n",
        "  print(\"Você foi reprovado, com nota: \", media, \"e percentual de presença de: \", percentpresenca,\"%\")"
      ],
      "metadata": {
        "colab": {
          "base_uri": "https://localhost:8080/"
        },
        "id": "BsxIF6uyamx3",
        "outputId": "c294a42c-6942-43fd-ed72-5f2be778275e"
      },
      "execution_count": null,
      "outputs": [
        {
          "output_type": "stream",
          "name": "stdout",
          "text": [
            "Digite a primeira nota: 5\n",
            "Digite a segunda nota: 7\n",
            "Digite a terceira nota: 9\n",
            "Quantos dias letivos o ano teve? 200\n",
            "Quantas faltas você teve? 56\n",
            "------------------------------\n",
            "Média: 7.0\n",
            "Porcentagem de presença: 72.0%\n",
            "Você foi reprovado, com nota:  7.0 e percentual de presença de:  72.0 %\n"
          ]
        }
      ]
    },
    {
      "cell_type": "markdown",
      "source": [
        "# Condicional composto\n",
        "## Converter notas em menções"
      ],
      "metadata": {
        "id": "fM7PIyBwazPn"
      }
    },
    {
      "cell_type": "code",
      "source": [
        "nota = float(input(\"Digite sua nota: \"))"
      ],
      "metadata": {
        "colab": {
          "base_uri": "https://localhost:8080/"
        },
        "id": "Hhf1sFHEa-SF",
        "outputId": "3735aeb5-e383-46b1-eda6-5a7ebd61aff5"
      },
      "execution_count": null,
      "outputs": [
        {
          "name": "stdout",
          "output_type": "stream",
          "text": [
            "Digite sua nota: 5\n"
          ]
        }
      ]
    },
    {
      "cell_type": "code",
      "source": [
        "if nota>=0 and nota<5:\n",
        "  print(\"I\")\n",
        "elif (nota>=5 and nota<6.5):\n",
        "  print(\"R\")\n",
        "elif (nota>6.5 and nota<=8.5):\n",
        "  print(\"B\")\n",
        "elif (nota<0) or (nota>10):\n",
        "  print(\"Nota inválida\")\n",
        "else:\n",
        "  print(\"MB\")"
      ],
      "metadata": {
        "colab": {
          "base_uri": "https://localhost:8080/"
        },
        "id": "vhfgTdmcbBon",
        "outputId": "0aef8dd4-746f-49e9-855c-d1ccd36b99d2"
      },
      "execution_count": null,
      "outputs": [
        {
          "output_type": "stream",
          "name": "stdout",
          "text": [
            "R\n"
          ]
        }
      ]
    },
    {
      "cell_type": "markdown",
      "source": [
        "# Condicional Aninhado"
      ],
      "metadata": {
        "id": "0TaAlnGibD6Y"
      }
    },
    {
      "cell_type": "code",
      "source": [
        "senhacerta=123456\n",
        "usuariocerto = 'admin'"
      ],
      "metadata": {
        "id": "DXOynHSJbI-2"
      },
      "execution_count": null,
      "outputs": []
    },
    {
      "cell_type": "code",
      "source": [
        "usuario = input(\"Digite seu usuário: \")\n",
        "senha = int(input(\"Digite sua senha: \"))"
      ],
      "metadata": {
        "colab": {
          "base_uri": "https://localhost:8080/"
        },
        "id": "KCBTCwcxbKJ2",
        "outputId": "9b7fed96-e17e-47ba-cc63-fd3eac493919"
      },
      "execution_count": null,
      "outputs": [
        {
          "name": "stdout",
          "output_type": "stream",
          "text": [
            "Digite seu usuário: admin\n",
            "Digite sua senha: 123456\n"
          ]
        }
      ]
    },
    {
      "cell_type": "code",
      "source": [
        "if usuario == usuariocerto:\n",
        "  if senha == senhacerta:\n",
        "    print(\"Usuário Logado\")\n",
        "  else:\n",
        "    print(\"Senha inválida\")\n",
        "else:\n",
        "  print(\"Usuário inválido\")"
      ],
      "metadata": {
        "colab": {
          "base_uri": "https://localhost:8080/"
        },
        "id": "WIowIPtcbQZ4",
        "outputId": "ebd1f2d8-5703-44e3-bd3e-ba179284c9e5"
      },
      "execution_count": null,
      "outputs": [
        {
          "output_type": "stream",
          "name": "stdout",
          "text": [
            "Usuário Logado\n"
          ]
        }
      ]
    },
    {
      "cell_type": "code",
      "source": [
        "if usuario == usuariocerto and senha == senhacerta:\n",
        "  print(\"Usuário Logado\")\n",
        "else:\n",
        "  print(\"Usuário ou senha inválida\")"
      ],
      "metadata": {
        "colab": {
          "base_uri": "https://localhost:8080/"
        },
        "id": "7Bx1fE8_bXFW",
        "outputId": "d9942a5c-0998-4831-fd0a-782875ef0cef"
      },
      "execution_count": null,
      "outputs": [
        {
          "output_type": "stream",
          "name": "stdout",
          "text": [
            "Usuário Logado\n"
          ]
        }
      ]
    },
    {
      "cell_type": "code",
      "source": [
        "idade = 15\n",
        "tem_autorizacao = False\n",
        "membro_vip = True\n",
        "\n",
        "if idade>=18:\n",
        "  print(\"Acesso permitido!\")\n",
        "  if membro_vip:\n",
        "    print(\"Acesso permitido com bebida a vontade.\")\n",
        "else:\n",
        "  if tem_autorizacao:\n",
        "    print(\"Acesso limitado a áreas comuns, não pode beber\")\n",
        "  else:\n",
        "    print(\"Acesso negado!\")"
      ],
      "metadata": {
        "colab": {
          "base_uri": "https://localhost:8080/"
        },
        "id": "iqtctwdYbaJu",
        "outputId": "936fd0c0-adcd-4c26-f6e8-d311d2261c2b"
      },
      "execution_count": null,
      "outputs": [
        {
          "output_type": "stream",
          "name": "stdout",
          "text": [
            "Acesso negado!\n"
          ]
        }
      ]
    }
  ]
}