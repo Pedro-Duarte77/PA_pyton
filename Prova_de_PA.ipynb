{
  "nbformat": 4,
  "nbformat_minor": 0,
  "metadata": {
    "colab": {
      "provenance": [],
      "authorship_tag": "ABX9TyPOM5wB48F2xPemPmQtjzJM",
      "include_colab_link": true
    },
    "kernelspec": {
      "name": "python3",
      "display_name": "Python 3"
    },
    "language_info": {
      "name": "python"
    }
  },
  "cells": [
    {
      "cell_type": "markdown",
      "metadata": {
        "id": "view-in-github",
        "colab_type": "text"
      },
      "source": [
        "<a href=\"https://colab.research.google.com/github/Pedro-Duarte77/PA_python/blob/main/Prova_de_PA.ipynb\" target=\"_parent\"><img src=\"https://colab.research.google.com/assets/colab-badge.svg\" alt=\"Open In Colab\"/></a>"
      ]
    },
    {
      "cell_type": "markdown",
      "source": [
        "Atividade avaliativa PA\n",
        "\n",
        "1)\tDetector de Fases da Lua (Situação hipotética)\n",
        "Faça um programa que pergunte o dia do mês (1 a 31) Não aceite valores fora desse intervalo.\n",
        "\n",
        "Baseado no dia, informe a provável fase da lua:\n",
        "\n",
        "•  Dia 1 a 7: Lua Nova\n",
        "\n",
        "•  Dia 8 a 14: Quarto Crescente\n",
        "\n",
        "•  Dia 15 a 21: Lua Cheia\n",
        "\n",
        "•  Dia 22 a 29: Quarto Minguante\n",
        "\n",
        "•  Dia 30 ou mais: Início de novo ciclo lunar\n"
      ],
      "metadata": {
        "id": "RkB3sTAzD1tD"
      }
    },
    {
      "cell_type": "code",
      "source": [
        "dia = int(input(\"Digite o dia entre 1 e 31: \"))\n",
        "if (dia >=1 and dia<=31):\n",
        "  print(\"Valor válido\")\n",
        "  if dia >=1 and dia<=7:\n",
        "    print(\"Lua Nova\")\n",
        "  elif dia >=8 and dia<=14:\n",
        "    print(\"Quarto Crescente\")\n",
        "  elif dia >=15 and dia<=21:\n",
        "    print(\"Lua Cheia\")\n",
        "  elif dia >=22 and dia<=29:\n",
        "    print(\"Quarto Minguante\")\n",
        "  else:\n",
        "    print(\"Início de Novo Ciclo Lunar\")\n",
        "else:\n",
        "  print(\"Valor Inválido\")"
      ],
      "metadata": {
        "colab": {
          "base_uri": "https://localhost:8080/"
        },
        "id": "QXTvtHckD6KL",
        "outputId": "a15bb4a1-70a6-46ee-c07e-d0d7ece3ed66"
      },
      "execution_count": 22,
      "outputs": [
        {
          "output_type": "stream",
          "name": "stdout",
          "text": [
            "Digite o dia entre 1 e 31: 30\n",
            "Valor válido\n",
            "Início de Novo Ciclo Lunar\n"
          ]
        }
      ]
    },
    {
      "cell_type": "markdown",
      "source": [
        "2)\tCrie um programa que simule a entrada de um jogador em uma batalha de RPG. O usuário deverá informar:\n",
        "\n",
        "•\tSua classe: \"mago\", \"guerreiro\" ou \"arqueiro\" (deve dar erro se as entradas forem diferentes dessas.\n",
        "\n",
        "•\tSua energia (valor de 0 a 100)\n",
        "Regras de entrada:\n",
        "\n",
        "•\tMagos: precisam ter energia > 60\n",
        "\n",
        "•\tGuerreiros: energia > 40\n",
        "\n",
        "•\tArqueiros: energia > 50\n",
        "\n",
        "Se puder entrar na batalha, o programa deve calcular um dano base diferente para cada classe:\n",
        "\n",
        "•\tMago: dano = energia × 1.5\n",
        "\n",
        "•\tGuerreiro: dano = energia × 2\n",
        "\n",
        "•\tArqueiro: dano = energia × 1.2\n",
        "\n",
        "O programa deve exibir:\n",
        "\n",
        "•\tSe o jogador pode ou não entrar\n",
        "\n",
        "•\tE, se puder, mostrar seu dano base calculado\n",
        "\n",
        "Exemplo da saída:\n",
        "\n",
        "Classe: guerreiro\n",
        "\n",
        "Energia: 55\n",
        "\n",
        "Você pode entrar na batalha!\n",
        "\n",
        "Dano base: 110.0\n"
      ],
      "metadata": {
        "id": "9PILqY0bF3Tj"
      }
    },
    {
      "cell_type": "code",
      "source": [
        "energia = int(input(\"Digite uma energia entre 1 e 100: \"))\n",
        "if (energia >=0 and energia<=100):\n",
        "  print(\"Energia Válida para jogar!\")\n",
        "  classe = int(input(\"Digite a sua classe\\n1 para mago\\n2 para guerreiro\\n3 para arqueiro: \"))\n",
        "  if classe==1:\n",
        "    print(\"mago\")\n",
        "    energia = energia*1.5\n",
        "    if energia>60:\n",
        "      print(\"Entrou na Batalha!. Sua energia é de\", energia)\n",
        "    else:\n",
        "      print(\"Energia Insuficiente!\")\n",
        "  elif classe==2:\n",
        "    print(\"guerreiro\")\n",
        "    energia = energia*2\n",
        "    if energia>40:\n",
        "      print(\"Entrou na Batalha!. Sua energia é de\", energia)\n",
        "    else:\n",
        "      print(\"Energia Insuficiente!\")\n",
        "  elif classe==3:\n",
        "    print(\"arqueiro\")\n",
        "    energia = energia*1.2\n",
        "    if energia>50:\n",
        "      print(\"Entrou na Batalha!. Sua energia é de\", energia)\n",
        "    else:\n",
        "      print(\"Energia Insuficiente!\")\n",
        "  else:\n",
        "    print(\"Classe inválida\")\n",
        "else:\n",
        "  print(\"Energia Inválida\")"
      ],
      "metadata": {
        "colab": {
          "base_uri": "https://localhost:8080/"
        },
        "id": "7-CwHS81HLQU",
        "outputId": "8dbce718-1d26-4636-99a0-c7e72dc17720"
      },
      "execution_count": 42,
      "outputs": [
        {
          "output_type": "stream",
          "name": "stdout",
          "text": [
            "Digite uma energia entre 1 e 100: 10\n",
            "Energia Válida para jogar!\n",
            "Digite a sua classe\n",
            "1 para mago\n",
            "2 para guerreiro\n",
            "3 para arqueiro: 3\n",
            "arqueiro\n",
            "Energia Insuficiente!\n"
          ]
        }
      ]
    },
    {
      "cell_type": "markdown",
      "source": [
        "Descrição do Algoritmo:\n",
        "1. Início\n",
        "•\tSolicita-se a renda familiar mensal (em reais).\n",
        "\n",
        "2. Validação da Renda\n",
        "•\tSe a renda familiar for menor que 0, exibir:\n",
        "\n",
        "➤ \"Renda inválida\"\n",
        "•\tSe a renda familiar for maior que R$ 5.000, exibir:\n",
        "➤ \"Não participa da bolsa. Só participam candidatos com renda menor ou igual a R$ 5.000.\"\n",
        "\n",
        "3. Tipo de Escola\n",
        "•\tSolicitar o tipo de escola do candidato: \"pública\" ou \"particular\".\n",
        "•\tSe for outro valor, exibir:\n",
        "\n",
        "➤ \"Tipo de escola inválido\"\n",
        "➤ Encerrar o programa.\n",
        "\n",
        "4. Notas Anuais\n",
        "•\tSolicitar as três últimas notas anuais nas disciplinas:\n",
        "\n",
        "o\tMatemática\n",
        "\n",
        "o\tPortuguês\n",
        "\n",
        "o\tConhecimentos Gerais\n",
        "\n",
        "•\tPara cada nota, validar se está entre 1 e 10:\n",
        "\n",
        "o\tSe alguma estiver fora desse intervalo, exibir erro específico:\n",
        "\n",
        "➤ \"Nota inválida. Reinicie o preenchimento.\"\n",
        "\n",
        "➤ Encerrar o programa.\n",
        "\n",
        "•\tCalcular a média simples das três notas.\n",
        "\n",
        "Observação: Essa média poderá ser superior a 10 após os bônus.\n",
        "\n",
        "Processamento por Tipo de Escola e Média\n",
        "\n",
        "Se a escola for pública:\n",
        "\n",
        "Média ≥ 8:\n",
        "•\tAumentar a média em 20%;\n",
        "\n",
        "•\tSe a renda < R$ 3.000, aplicar mais 15% sobre o novo valor da média.\n",
        "Média ≥ 6 e < 8:\n",
        "\n",
        "•\tAumentar a média em 10%;\n",
        "\n",
        "•\tSe a renda < R$ 3.000, aplicar mais 5% sobre o novo valor da média.\n",
        "Média < 6:\n",
        "\n",
        "•\tExibir:\n",
        "\n",
        "➤ \"Não concorre à bolsa por nota baixa.\"\n",
        "\n",
        "Se a escola for particular:\n",
        "Média ≥ 8:\n",
        "\n",
        "•\tAumentar a média em 5%;\n",
        "\n",
        "•\tSe a renda < R$ 3.000, aplicar mais 15% sobre o novo valor da média.\n",
        "Média ≥ 6 e < 8:\n",
        "\n",
        "•\tAumentar a média em 2,5%;\n",
        "\n",
        "•\tSe a renda < R$ 3.000, aplicar mais 2% sobre o novo valor da média.\n",
        "Média < 6:\n",
        "\n",
        "•\tExibir:\n",
        "➤ \"Não concorre à bolsa por nota baixa.\"\n"
      ],
      "metadata": {
        "id": "3V6ICkZ_NKQX"
      }
    },
    {
      "cell_type": "code",
      "source": [
        "renda = float(input(\"Digite a renda familiar mensal em R$: \"))\n",
        "if (renda>0 and renda <=5000):\n",
        "  print(\"Renda Válida!\")\n",
        "  escola = int(input(\"Informe se você é de escola particular ou pública.\\nPara escola pública digite 1\\nPara escola particular digite 2 \"))\n",
        "\n",
        "  if escola ==1:\n",
        "    print(\"pública\")\n",
        "    nota1 = int(input(\"Informe sua nota em matemática:\"))\n",
        "    nota2 = int(input(\"Informe sua nota em português:\"))\n",
        "    nota3 = int(input(\"Informe sua nota em conhecimentos gerais:\"))\n",
        "    if nota1 >0 and nota1 <=10:\n",
        "      print(\"Válido\")\n",
        "      if nota1 >0 and nota1 <=10:\n",
        "        print(\"Válido\")\n",
        "        if nota3 >0 and nota3 <=10:\n",
        "          print(\"Válido\")\n",
        "    else:\n",
        "      print(\"Nota Inválida. Reinicie o processo.\")\n",
        "\n",
        "  elif escola ==2:\n",
        "    print(\"particular\")\n",
        "  else:\n",
        "    print(\"Tipo de escola inválido\")\n",
        "\n",
        "else:\n",
        "  print(\"Renda inválida. Não participa da bolsa. Só participam candidatos com renda menor ou igual a R$ 5.000\")"
      ],
      "metadata": {
        "colab": {
          "base_uri": "https://localhost:8080/"
        },
        "id": "M5QtiAggNlwe",
        "outputId": "c396a8f9-2374-41ec-d8f1-f793d4fbedee"
      },
      "execution_count": 80,
      "outputs": [
        {
          "output_type": "stream",
          "name": "stdout",
          "text": [
            "Digite a renda familiar mensal em R$: 3000\n",
            "Renda Válida!\n",
            "Informe se você é de escola particular ou pública.\n",
            "Para escola pública digite 1\n",
            "Para escola particular digite 2 1\n",
            "pública\n",
            "Informe sua nota em matemática:7\n",
            "Informe sua nota em português:8\n",
            "Informe sua nota em conhecimentos gerais:9\n",
            "Válido\n",
            "Válido\n",
            "Válido\n"
          ]
        }
      ]
    },
    {
      "cell_type": "code",
      "source": [],
      "metadata": {
        "id": "i0dZwBbtScn_"
      },
      "execution_count": null,
      "outputs": []
    }
  ]
}